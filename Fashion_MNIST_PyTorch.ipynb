{
 "cells": [
  {
   "cell_type": "code",
   "execution_count": 24,
   "metadata": {
    "collapsed": true,
    "scrolled": true
   },
   "outputs": [],
   "source": [
    "import numpy as np\n",
    "import torch\n",
    "import torch.nn as nn\n",
    "import torch.nn.functional as F\n",
    "import torch.utils.data as utils_data\n",
    "import scipy.io as sio\n",
    "import matplotlib.pyplot as plt\n",
    "from torchvision import transforms\n",
    "import PIL"
   ]
  },
  {
   "cell_type": "markdown",
   "metadata": {},
   "source": [
    "### Loading, processing, and splitting data\n",
    "--------------------------------------"
   ]
  },
  {
   "cell_type": "code",
   "execution_count": 52,
   "metadata": {
    "collapsed": true
   },
   "outputs": [],
   "source": [
    "#%% Load Data\n",
    "#\n",
    "#   It may be beneficial to consider how to transform your data to obtain \n",
    "#   better performance.\n",
    "\n",
    "mdict = sio.loadmat('data')\n",
    "X = torch.from_numpy(mdict['X'].astype('float32').reshape((60000, 784))/255)\n",
    "y = torch.from_numpy(mdict['y'].squeeze()).long()\n",
    "\n",
    "# transform data into size of (60000,1,28,28)\n",
    "X = X.reshape((-1,1,28,28))\n"
   ]
  },
  {
   "cell_type": "markdown",
   "metadata": {},
   "source": [
    "50000 observations as training set, and 10000 as validation set"
   ]
  },
  {
   "cell_type": "code",
   "execution_count": 53,
   "metadata": {
    "collapsed": true
   },
   "outputs": [],
   "source": [
    "# split data into traning and validation\n",
    "val_index = np.r_[0:60000:6]\n",
    "indices = np.arange(60000)\n",
    "train_index = np.where(indices%6!=0)[0]\n",
    "X_train = X[train_index]\n",
    "y_train = y[train_index]\n",
    "X_val = X[val_index]\n",
    "y_val = y[val_index]"
   ]
  },
  {
   "cell_type": "markdown",
   "metadata": {},
   "source": [
    "Data augmentation:\n",
    "\n",
    "In training set, get 10000 images to flip horizontally. Put them into training set as data augmentation."
   ]
  },
  {
   "cell_type": "code",
   "execution_count": 54,
   "metadata": {
    "collapsed": true
   },
   "outputs": [],
   "source": [
    "# data augmentation\n",
    "topil = transforms.ToPILImage()\n",
    "totensor = transforms.ToTensor()\n",
    "\n",
    "flip_index = np.r_[0:50000:5]\n",
    "X_train_aug = X_train[flip_index]\n",
    "# horizontal flip\n",
    "for image in X_train_aug:\n",
    "    image = topil(image)\n",
    "    image = totensor(image.transpose(PIL.Image.FLIP_LEFT_RIGHT))\n",
    "    image = image.reshape((1,1,28,28))\n",
    "    X_train = torch.cat((X_train,image),0)\n",
    "y_train = torch.cat((y_train,y_train[flip_index]),0)"
   ]
  },
  {
   "cell_type": "markdown",
   "metadata": {},
   "source": [
    "Check if cuda is available"
   ]
  },
  {
   "cell_type": "code",
   "execution_count": 55,
   "metadata": {
    "collapsed": true
   },
   "outputs": [],
   "source": [
    "# move to cuda if available\n",
    "if torch.cuda.is_available():\n",
    "    device = torch.device(\"cuda\")\n",
    "    X_train = X_train.to(device)\n",
    "    y_train = y_train.to(device)\n",
    "    X_val = X_val.to(device)\n",
    "    y_val = y_val.to(device)\n",
    "\n",
    "train_data = utils_data.TensorDataset(X_train, y_train)"
   ]
  },
  {
   "cell_type": "markdown",
   "metadata": {},
   "source": [
    "Flip example:"
   ]
  },
  {
   "cell_type": "code",
   "execution_count": 75,
   "metadata": {},
   "outputs": [
    {
     "name": "stdout",
     "output_type": "stream",
     "text": [
      "Before flip\n"
     ]
    },
    {
     "data": {
      "image/png": "[encoded data removed]",
      "text/plain": [
       "<matplotlib.figure.Figure at 0x19c015a8cf8>"
      ]
     },
     "metadata": {},
     "output_type": "display_data"
    },
    {
     "name": "stdout",
     "output_type": "stream",
     "text": [
      "After flip\n"
     ]
    },
    {
     "data": {
      "image/png": "[encoded data removed]",
      "text/plain": [
       "<matplotlib.figure.Figure at 0x19c000a6cf8>"
      ]
     },
     "metadata": {},
     "output_type": "display_data"
    }
   ],
   "source": [
    "# before flip\n",
    "print('Before flip')\n",
    "plt.imshow(X_train[10][0])\n",
    "plt.show()\n",
    "# after flip\n",
    "print('After flip')\n",
    "plt.imshow(X_train[50002][0])\n",
    "plt.show()"
   ]
  },
  {
   "cell_type": "markdown",
   "metadata": {},
   "source": [
    "---------------------------------"
   ]
  },
  {
   "cell_type": "markdown",
   "metadata": {},
   "source": [
    "### Defining model\n",
    "------------------------------------------"
   ]
  },
  {
   "cell_type": "code",
   "execution_count": 84,
   "metadata": {
    "collapsed": true
   },
   "outputs": [],
   "source": [
    "#%% Define Neural Network Architecture\n",
    "#\n",
    "#   Modify your neural network here!\n",
    "\n",
    "class Net(nn.Module):\n",
    "    def __init__(self,b_n = True):\n",
    "        super(Net, self).__init__()\n",
    "        # if use batch normalization\n",
    "        self.bn = b_n\n",
    "        \n",
    "        # Convolutional Layers\n",
    "        # Conv2d(input_channels, output_channels, kernel_size, stride=1, padding=0, dilation=1, groups=1, bias=True)\n",
    "        \n",
    "        # 1 input image channel, 10 output channels, 5x5 square convolution kernel\n",
    "        self.conv1 = nn.Conv2d(1, 10, 5)\n",
    "        \n",
    "        # 10 input channels, 20 output channels, 5x5 square convolutional kernel\n",
    "        self.conv2 = nn.Conv2d(10, 20, 5)\n",
    "        \n",
    "        # Max Pooling\n",
    "        # MaxPool2d(kernel_size, stride=None, padding=0, dilation=1, return_indices=False, ceil_mode=False)\n",
    "        self.pool = nn.MaxPool2d(2)\n",
    "        \n",
    "        \n",
    "        # An affine operation: y = Wx + b\n",
    "        # Linear(input_features, output_features, bias=True)\n",
    "        self.fc1 = nn.Linear(20 * 4 * 4, 80)\n",
    "        self.fc2 = nn.Linear(80, 150)\n",
    "        self.fc3 = nn.Linear(150, 10)\n",
    "        self.drop = nn.Dropout(p=0.1)\n",
    "        \n",
    "        # batch normalization\n",
    "        if self.bn==True:\n",
    "            self.bn1 = nn.BatchNorm1d(20 * 4 * 4)\n",
    "            self.bn2 = nn.BatchNorm1d(80)\n",
    "            self.bn3 = nn.BatchNorm1d(150)\n",
    "\n",
    "    def forward(self, x):\n",
    "        # convolutional layer, ReLU activation, max pooling with (2, 2) window\n",
    "        x = self.pool(F.relu(self.conv1(x)))\n",
    "        x = self.pool(F.relu(self.conv2(x)))\n",
    "        \n",
    "        x = x.view(-1, 20 * 4 * 4) # convert to flat feature vector\n",
    "        \n",
    "        # linear layer and ReLU activations\n",
    "        if self.bn==False:\n",
    "            x = F.relu(self.fc1(x))\n",
    "            x = self.drop(x)\n",
    "            x = F.relu(self.fc2(x))\n",
    "            x = self.drop(x)\n",
    "            x = self.fc3(x)\n",
    "        else:\n",
    "            x = F.relu(self.fc1(self.bn1(x)))\n",
    "            x = self.drop(x)\n",
    "            x = F.relu(self.fc2(self.bn2(x)))\n",
    "            x = self.drop(x)\n",
    "            x = self.fc3(self.bn3(x))\n",
    "            \n",
    "        return x\n",
    "    \n",
    "    \n",
    "#%% Define Training Function\n",
    "#\n",
    "#   Modify your optimization algorithm and learning rate schedule here!\n",
    "\n",
    "def train_model(model, nb_epochs=10, batch_size=100, lr=0.001, momentum=0.9, w_d=0.01, step_lr=[5,0.5]):\n",
    "    \"\"\"\n",
    "    Trains the model using SGD.\n",
    "    \n",
    "    Inputs:\n",
    "        model: Neural network model\n",
    "        nb_epochs: number of epochs (int)\n",
    "        batch_size: batch size (int)\n",
    "        lr: learning rate/steplength (float)\n",
    "    \n",
    "    \"\"\"\n",
    "    \n",
    "    # initialize train loader, optimizer, and loss\n",
    "    train_loader = utils_data.DataLoader(train_data, batch_size=batch_size, shuffle=True)\n",
    "    optimizer = torch.optim.SGD(model.parameters(), lr=lr, momentum=momentum, weight_decay=w_d, nesterov=True)\n",
    "    loss = torch.nn.CrossEntropyLoss()\n",
    "    scheduler = torch.optim.lr_scheduler.StepLR(optimizer, step_size=step_lr[0], gamma=step_lr[1])\n",
    "    \n",
    "    # loss and accuracy lists\n",
    "    train_loss_list = []\n",
    "    train_acc_list = []\n",
    "    val_loss_list = []\n",
    "    val_acc_list = []\n",
    "    \n",
    "    for e in range(nb_epochs):\n",
    "        \n",
    "        scheduler.step()\n",
    "\n",
    "        # Training loop!\n",
    "        for i, data in enumerate(train_loader):\n",
    "            \n",
    "            # get inputs\n",
    "            inputs, labels = data\n",
    "            \n",
    "            # set to training mode\n",
    "            model.train()\n",
    "            \n",
    "             # zero gradient\n",
    "            optimizer.zero_grad()\n",
    "            \n",
    "            # forward pass and compute loss\n",
    "            ops = model(inputs)\n",
    "            loss_fn = loss(ops, labels)\n",
    "            \n",
    "            # compute gradient and take step in optimizer\n",
    "            loss_fn.backward() \n",
    "            optimizer.step()\n",
    "        \n",
    "        model.eval() # set to evaluation mode\n",
    "        \n",
    "        # evaluate training loss and training accuracy\n",
    "        ops = model(X_train)\n",
    "        _, predicted = torch.max(ops.data, 1)\n",
    "        train_loss = loss(ops, y_train).item()\n",
    "        train_acc = torch.mean((predicted == y_train).float()).item()*100\n",
    "        \n",
    "        # evaludte validation loss and validation accuracy\n",
    "        ops = model(X_val)\n",
    "        _, predicted = torch.max(ops.data, 1)\n",
    "        val_loss = loss(ops, y_val).item()\n",
    "        val_acc = torch.mean((predicted == y_val).float()).item()*100\n",
    "                    \n",
    "        print('Epoch:', e+1, 'Train Loss:', train_loss, 'Training Accuracy:', train_acc, 'Val Loss:', val_loss, 'Val Accuracy:', val_acc)\n",
    "        \n",
    "        train_loss_list.append(train_loss)\n",
    "        train_acc_list.append(train_acc)\n",
    "        val_loss_list.append(val_loss)\n",
    "        val_acc_list.append(val_acc)\n",
    "    \n",
    "    return train_loss_list,train_acc_list,val_loss_list,val_acc_list\n",
    "        "
   ]
  },
  {
   "cell_type": "code",
   "execution_count": 81,
   "metadata": {
    "collapsed": true
   },
   "outputs": [],
   "source": [
    "#%% Define Testing Function\n",
    "\n",
    "def test_model(X, y):\n",
    "    \"\"\"\n",
    "    Tests the model using stored network weights. \n",
    "    Please ensure that this code will allow me to test your model on testing data.\n",
    "    An example code is given below.\n",
    "    \n",
    "    Inputs:\n",
    "        X: feature data (FloatTensor)\n",
    "        y: labels (LongTensor)\n",
    "    \n",
    "    \"\"\"\n",
    "    \n",
    "    # constructs model\n",
    "    model = Net()\n",
    "    loss = torch.nn.CrossEntropyLoss()\n",
    "    \n",
    "    # loads weights\n",
    "    model.load_state_dict(torch.load('trained_model.pt'))\n",
    "    \n",
    "    # compute loss and accuracy\n",
    "    ops = model(X)\n",
    "    _, predicted = torch.max(ops.data, 1)\n",
    "    test_loss = loss(ops, y).item()\n",
    "    test_acc = torch.mean((predicted == y).float()).item()*100\n",
    "    \n",
    "    print('Test Loss:', test_loss)\n",
    "    print('Test Accuracy:', test_acc)"
   ]
  },
  {
   "cell_type": "markdown",
   "metadata": {},
   "source": [
    "-----------------------------------------"
   ]
  },
  {
   "cell_type": "markdown",
   "metadata": {},
   "source": [
    "### Training model\n",
    "---------------------------------------"
   ]
  },
  {
   "cell_type": "code",
   "execution_count": 90,
   "metadata": {
    "scrolled": false
   },
   "outputs": [
    {
     "name": "stdout",
     "output_type": "stream",
     "text": [
      "Epoch: 1 Train Loss: 0.43990710377693176 Training Accuracy: 83.63666534423828 Val Loss: 0.4391893446445465 Val Accuracy: 83.79999995231628\n",
      "Epoch: 2 Train Loss: 0.3414255678653717 Training Accuracy: 87.173330783844 Val Loss: 0.34725630283355713 Val Accuracy: 87.30999827384949\n",
      "Epoch: 3 Train Loss: 0.28931552171707153 Training Accuracy: 89.68333601951599 Val Loss: 0.3067900538444519 Val Accuracy: 89.31000232696533\n",
      "Epoch: 4 Train Loss: 0.35235196352005005 Training Accuracy: 86.40000224113464 Val Loss: 0.378312885761261 Val Accuracy: 85.93000173568726\n",
      "Epoch: 5 Train Loss: 0.25657200813293457 Training Accuracy: 90.58333039283752 Val Loss: 0.2799513638019562 Val Accuracy: 90.1199996471405\n",
      "Epoch: 6 Train Loss: 0.23432603478431702 Training Accuracy: 91.42833352088928 Val Loss: 0.2725124955177307 Val Accuracy: 90.18999934196472\n",
      "Epoch: 7 Train Loss: 0.22117535769939423 Training Accuracy: 91.9700026512146 Val Loss: 0.26313742995262146 Val Accuracy: 90.70000052452087\n",
      "Epoch: 8 Train Loss: 0.22047631442546844 Training Accuracy: 91.95833206176758 Val Loss: 0.2636592984199524 Val Accuracy: 90.72999954223633\n",
      "Epoch: 9 Train Loss: 0.22290828824043274 Training Accuracy: 91.88666939735413 Val Loss: 0.2716970145702362 Val Accuracy: 90.28000235557556\n",
      "Epoch: 10 Train Loss: 0.2573694884777069 Training Accuracy: 90.15499949455261 Val Loss: 0.3016052544116974 Val Accuracy: 88.70999813079834\n",
      "Epoch: 11 Train Loss: 0.20265774428844452 Training Accuracy: 92.48666763305664 Val Loss: 0.2655288577079773 Val Accuracy: 90.57000279426575\n",
      "Epoch: 12 Train Loss: 0.18854786455631256 Training Accuracy: 93.22666525840759 Val Loss: 0.2507558763027191 Val Accuracy: 90.96999764442444\n",
      "Epoch: 13 Train Loss: 0.18219976127147675 Training Accuracy: 93.43500137329102 Val Loss: 0.2519424557685852 Val Accuracy: 91.25999808311462\n",
      "Epoch: 14 Train Loss: 0.1865028291940689 Training Accuracy: 93.25166940689087 Val Loss: 0.2601434588432312 Val Accuracy: 90.96999764442444\n",
      "Epoch: 15 Train Loss: 0.18357734382152557 Training Accuracy: 93.24333071708679 Val Loss: 0.25880128145217896 Val Accuracy: 90.71000218391418\n",
      "Epoch: 16 Train Loss: 0.16075149178504944 Training Accuracy: 94.2799985408783 Val Loss: 0.24470199644565582 Val Accuracy: 91.26999974250793\n",
      "Epoch: 17 Train Loss: 0.1606822907924652 Training Accuracy: 94.2716658115387 Val Loss: 0.2455972135066986 Val Accuracy: 91.54000282287598\n",
      "Epoch: 18 Train Loss: 0.16266264021396637 Training Accuracy: 94.20333504676819 Val Loss: 0.2528044283390045 Val Accuracy: 91.03000164031982\n",
      "Epoch: 19 Train Loss: 0.15690414607524872 Training Accuracy: 94.35333609580994 Val Loss: 0.24781553447246552 Val Accuracy: 91.21000170707703\n",
      "Epoch: 20 Train Loss: 0.1624859869480133 Training Accuracy: 94.16166543960571 Val Loss: 0.25256988406181335 Val Accuracy: 90.9500002861023\n",
      "Epoch: 21 Train Loss: 0.1502748429775238 Training Accuracy: 94.72833275794983 Val Loss: 0.2456110566854477 Val Accuracy: 91.4900004863739\n",
      "Epoch: 22 Train Loss: 0.144099161028862 Training Accuracy: 95.00333070755005 Val Loss: 0.2445971667766571 Val Accuracy: 91.25000238418579\n",
      "Epoch: 23 Train Loss: 0.1428908258676529 Training Accuracy: 95.03999948501587 Val Loss: 0.24348263442516327 Val Accuracy: 91.4900004863739\n",
      "Epoch: 24 Train Loss: 0.14025604724884033 Training Accuracy: 95.12500166893005 Val Loss: 0.24328474700450897 Val Accuracy: 91.61999821662903\n",
      "Epoch: 25 Train Loss: 0.13968247175216675 Training Accuracy: 95.16333341598511 Val Loss: 0.24561196565628052 Val Accuracy: 91.38000011444092\n",
      "Epoch: 26 Train Loss: 0.1456468254327774 Training Accuracy: 94.8199987411499 Val Loss: 0.2508515417575836 Val Accuracy: 91.40999913215637\n",
      "Epoch: 27 Train Loss: 0.1408185213804245 Training Accuracy: 95.06666660308838 Val Loss: 0.24837958812713623 Val Accuracy: 91.33999943733215\n",
      "Epoch: 28 Train Loss: 0.13492760062217712 Training Accuracy: 95.30666470527649 Val Loss: 0.2436809092760086 Val Accuracy: 91.51999950408936\n",
      "Epoch: 29 Train Loss: 0.13263188302516937 Training Accuracy: 95.41333317756653 Val Loss: 0.24324265122413635 Val Accuracy: 91.50999784469604\n",
      "Epoch: 30 Train Loss: 0.13631793856620789 Training Accuracy: 95.21166682243347 Val Loss: 0.24704667925834656 Val Accuracy: 91.50999784469604\n",
      "Epoch: 31 Train Loss: 0.13217078149318695 Training Accuracy: 95.45833468437195 Val Loss: 0.245630145072937 Val Accuracy: 91.6599988937378\n",
      "Epoch: 32 Train Loss: 0.13100789487361908 Training Accuracy: 95.46666741371155 Val Loss: 0.24438606202602386 Val Accuracy: 91.46000146865845\n",
      "Epoch: 33 Train Loss: 0.12956839799880981 Training Accuracy: 95.49499750137329 Val Loss: 0.2443736344575882 Val Accuracy: 91.61999821662903\n",
      "Epoch: 34 Train Loss: 0.13039715588092804 Training Accuracy: 95.56333422660828 Val Loss: 0.24446476995944977 Val Accuracy: 91.56000018119812\n",
      "Epoch: 35 Train Loss: 0.1295001208782196 Training Accuracy: 95.53833603858948 Val Loss: 0.24599243700504303 Val Accuracy: 91.53000116348267\n",
      "Epoch: 36 Train Loss: 0.1294049620628357 Training Accuracy: 95.57833075523376 Val Loss: 0.24516738951206207 Val Accuracy: 91.40999913215637\n"
     ]
    }
   ],
   "source": [
    "# set seed\n",
    "np.random.seed(1226)\n",
    "torch.manual_seed(1226)\n",
    "\n",
    "#%% Parameters\n",
    "\n",
    "epochs = 36\n",
    "lr = 0.01\n",
    "momentum = 0.9\n",
    "batch_size = 128\n",
    "w_d = 0.001\n",
    "step_lr = [5,0.5]\n",
    "\n",
    "#%% Train Neural Network\n",
    "\n",
    "# Create neural network\n",
    "# batch normalization = True\n",
    "model = Net(b_n=True)\n",
    "\n",
    "# Train model\n",
    "t_l,t_a,v_l,v_a = train_model(model, nb_epochs=epochs, batch_size=batch_size, \n",
    "                              lr=lr, momentum=momentum, w_d = w_d, step_lr=step_lr)\n",
    "\n",
    "# Save model weights\n",
    "torch.save(model.state_dict(), 'trained_model.pt')"
   ]
  },
  {
   "cell_type": "markdown",
   "metadata": {},
   "source": [
    "Plot of loss:"
   ]
  },
  {
   "cell_type": "code",
   "execution_count": 93,
   "metadata": {
    "scrolled": true
   },
   "outputs": [
    {
     "data": {
      "image/png": "[encoded data removed]",
      "text/plain": [
       "<matplotlib.figure.Figure at 0x19c01723f60>"
      ]
     },
     "metadata": {},
     "output_type": "display_data"
    }
   ],
   "source": [
    "epoch_list = np.linspace(1,36,36)\n",
    "plt.plot(epoch_list,t_l)\n",
    "plt.plot(epoch_list,v_l)\n",
    "plt.legend(['Training loss','Val loss'], loc='center right')\n",
    "plt.show()"
   ]
  },
  {
   "cell_type": "markdown",
   "metadata": {},
   "source": [
    "Plot of accuracy:"
   ]
  },
  {
   "cell_type": "code",
   "execution_count": 94,
   "metadata": {
    "scrolled": false
   },
   "outputs": [
    {
     "data": {
      "image/png": "[encoded data removed]",
      "text/plain": [
       "<matplotlib.figure.Figure at 0x19c01311a20>"
      ]
     },
     "metadata": {},
     "output_type": "display_data"
    }
   ],
   "source": [
    "plt.plot(epoch_list,t_a)\n",
    "plt.plot(epoch_list,v_a)\n",
    "plt.legend(['Training acc','Val acc'], loc='center right')\n",
    "plt.show()"
   ]
  },
  {
   "cell_type": "markdown",
   "metadata": {},
   "source": [
    "\"test_model\" function:"
   ]
  },
  {
   "cell_type": "code",
   "execution_count": 95,
   "metadata": {},
   "outputs": [
    {
     "name": "stdout",
     "output_type": "stream",
     "text": [
      "Test Loss: 0.27276739478111267\n",
      "Test Accuracy: 90.85999727249146\n"
     ]
    }
   ],
   "source": [
    "test_model(X_val,y_val)"
   ]
  },
  {
   "cell_type": "markdown",
   "metadata": {},
   "source": [
    "Number of parameters in network:"
   ]
  },
  {
   "cell_type": "code",
   "execution_count": 68,
   "metadata": {},
   "outputs": [
    {
     "data": {
      "text/plain": [
       "45720"
      ]
     },
     "execution_count": 68,
     "metadata": {},
     "output_type": "execute_result"
    }
   ],
   "source": [
    "sum(p.numel() for p in model.parameters())"
   ]
  }
 ],
 "metadata": {
  "kernelspec": {
   "display_name": "Python 3",
   "language": "python",
   "name": "python3"
  },
  "language_info": {
   "codemirror_mode": {
    "name": "ipython",
    "version": 3
   },
   "file_extension": ".py",
   "mimetype": "text/x-python",
   "name": "python",
   "nbconvert_exporter": "python",
   "pygments_lexer": "ipython3",
   "version": "3.6.5"
  }
 },
 "nbformat": 4,
 "nbformat_minor": 2
}
